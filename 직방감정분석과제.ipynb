{
 "cells": [
  {
   "cell_type": "markdown",
   "id": "95633472",
   "metadata": {},
   "source": [
    "# 데이터 구성 확인하기"
   ]
  },
  {
   "cell_type": "code",
   "execution_count": 90,
   "id": "e81558c4",
   "metadata": {},
   "outputs": [
    {
     "name": "stdout",
     "output_type": "stream",
     "text": [
      "{'summary': {'recommendScore': 4.2, 'trafficScore': 3.8, 'aroundScore': 3.8, 'residentScore': 4, 'careScore': 3.9, 'danjiName': '은평뉴타운상림마을7단지아이파크(706~708동)', 'reviewCount': 10}, 'data': [{'id': 380440, 'age': '50대', 'sex': '남자', 'married': '기혼', 'residenceTime': '2022년에 거주', 'residenceType': '자가 거주', 'score': 5, 'desc': '작은 평수는 아이를 키우는  젊은 직장인, 넓은 평수는 50대이상 경제적으로 안정된분들에게 추천드리고 싶습니다.', 'trafficScore': 5, 'trafficDesc': '아파트 앞에서 바로 버스로 한번에 구파발역 및 서울역까지 이용가능... 신분당선서북부 연장 확정시 근교에 진관중역을 이용 강남까지 30분이내 이동가능...', 'aroundScore': 5, 'aroundDesc': '초등학교부터 고등학교까지 초근접해 있으며 최고의 쾌적함과 도보로 북한산 및 둘레길 산책 가능함', 'careScore': 4, 'careDesc': '층수가 낮다보니 단지 넓이에 비해 세대수가 250세 정도로 작지만, 그만큼 쾌적할수 있고 안전이야 은평뉴타운 어느곳이든 안전하고 관리도 비교적 잘 되고 있음', 'residentScore': 4, 'residentDesc': '타입별 차이는 있겠으나, 내가 살고 있는 타입은 대형으로 층간 소음도 없고 단지내 여러 타입의 아파트가 조화롭게 구성됨...', 'regDate': '2022.07.21', 'regTime': '2022-07-21T02:45:54.000Z'}, {'id': 379583, 'age': '20대', 'sex': '남자', 'married': '미혼', 'residenceTime': '2022년에 거주', 'residenceType': '자가 거주', 'score': 5, 'desc': '도보 15분 거리 롯데몰 존재함. 도보 5분거리 마트 존재함. 도보 5분거리안에 편의점 4개 존재함. 다양한 편의시설있음. 전기자전거를 이용한다면 더 윤택한 생활 누릴수 있음', 'trafficScore': 5, 'trafficDesc': '신분당선 서북부 연장 사업 추진으로 인해 뉴타운역 개설된다면 용산애서 강남 까지 20분 더 이상 교통이 불편한 지역이 아니게됨', 'aroundScore': 3, 'aroundDesc': '주변에 편의점은 많지만 단지내에 마트는 부족 버스나 자가용타고 역까지 나가야함. 조금의 애로사항은 존재합니다.', 'careScore': 5, 'careDesc': '잡상인이 한번도 들어온적은 없지만 경비원이 불친절함. 청소나 분리수거 모두 양호 안전상 문제는 없슴.', 'residentScore': 5, 'residentDesc': '말할것 없음 좋은 경치와 자연과 함께하는 경관은 최고임. 여름에는 시원하고 겨울에는 조금 추울 수 있슴.', 'regDate': '2022.06.13', 'regTime': '2022-06-13T06:06:22.000Z'}, {'id': 351434, 'age': '60대 이상', 'sex': '남자', 'married': '기혼', 'residenceTime': '2020년에 거주', 'residenceType': '자가 거주', 'score': 5, 'desc': '비교적 양호한 교통시설, 단지 안에 위치한 유치원,초중고등학교교육시설, 도심을 벗어난 한젖함과 쾌적함은 우리아파트가 최고인 이유임.', 'trafficScore': 4, 'trafficDesc': '전절역사에서 원거리에 위치하여 불편한점이 있으나 시내버스등으로 양호함 향후 북한산을 관통하는 도록가 놓인다면 금상첨하', 'aroundScore': 5, 'aroundDesc': '천혜적인 북한산과 자연이 주는 아늑함은 대한민국 촤고의 주거지임.대형병원의 입점과 마트의 압점으로 쇼핑등 편리.', 'careScore': 5, 'careDesc': '깨끗한 친환경 관리로 매우 우수함. 서울시에서 분양시 약속한데로 주변 실개천 및 환경문제는 꼭 이행해 주길 바랍니다.', 'residentScore': 5, 'residentDesc': '맑고 깨끗함. 창틀은 북한산을 액자속에 넣고\\n 뒷동산 같은 실개천과 국립공원은 환상덕인 휠링아파트임\\n 서울시에서 약속한 실개천은 꼭 이행되길...', 'regDate': '2020.03.03', 'regTime': '2020-03-03T06:35:44.000Z'}, {'id': 197262, 'age': '40대', 'sex': '여자', 'married': '기혼', 'residenceTime': '2017년에 거주', 'residenceType': '전세 또는 월세', 'score': 4, 'desc': '시내에 비해 자연환경이 뛰어나 만족도가 높음. \\n유해환경이 없고 친환경적이라 아이 키우기 매우 좋음. 가격도 저렴한 편.', 'trafficScore': 3, 'trafficDesc': '마을버스를 이용해야 지하철을 이용할 수 있다. 통일로 주변 교통이 매우 혼잡하여 차가 많이 막힘', 'aroundScore': 4, 'aroundDesc': '북한산과 이말산 덕분에 자연경관이 수려하고 기온도 시내보다 낮아서 여름에 시원함 \\n공기 좋음.', 'careScore': 3, 'careDesc': '단지가 여러 개로 나눠져 있어서 관리비가 비싸다. \\n평수가 넓어서 부가세가 별도로 부과되어 불공평하다', 'residentScore': 3, 'residentDesc': '층간소음 조금 있음. 시원해서 냉방비는 절약되나 지역난방이라 집 자체가 춥다. 13층이라 일조량 좋음', 'regDate': '2017.06.13', 'regTime': '2017-06-13T01:30:39.000Z'}, {'id': 99969, 'age': '40대', 'sex': '여자', 'married': '기혼', 'residenceTime': '2017년에 거주', 'residenceType': '자가 거주', 'score': 4, 'desc': '아이들이 뛰어놀만한 공간이 많아 정서에 좋을 거 같아 추천한다 \\n아파트 바로 위가 산이라 가볍게 등산하기도 너무 좋다', 'trafficScore': 2, 'trafficDesc': '지하철까지 걸어가기는 힘든 거리에 지하철역까지 롯데몰로 인해 버스까지 막힌다.', 'aroundScore': 4, 'aroundDesc': '동간거리가 넓고 고층아파트가 아니어서 삭막함이 덜하고 아이들이 놀기 좋다', 'careScore': 3, 'careDesc': '1층 주차장을 아이들의 안전과 미관을 위해 차를 못 세우게 하니 위험이 덜하고 답답함이 덜하다 \\n재활용품을 주 1회로 정해 버리게 하니 재활용품 버리는 곳의 환경이 깨끗한 편이다', 'residentScore': 3, 'residentDesc': '낮에 햇빛이 잘 들어 밝고 좋긴 한데 1층 입구 쪽이 맞바람이 항상 불어 겨울에는 너무 춥다', 'regDate': '2017.04.26', 'regTime': '2017-04-26T09:23:55.000Z'}, {'id': 28093, 'age': '20대', 'sex': '여자', 'married': '미혼', 'residenceTime': '2017년에 거주', 'residenceType': '자가 거주', 'score': 4, 'desc': '여가시설이 부족한 부분이 있으나 매우 조용하고 깨끗하여 젊은 사람보다는 나이가 있으신 노부부에게 추천함', 'trafficScore': 3, 'trafficDesc': '마을버스가 잘 되어있으나 역에서 좀 떨어진 거리여서 도보로 꽤 멀음', 'aroundScore': 4, 'aroundDesc': '산책이나 공원이 단지마다 잘 구성되어있어 좋으나 젊은 사람들에게 필요한 백화점 등의 대형시설이 부족함', 'careScore': 3, 'careDesc': '외부인이 많이 드나들지 않는 동네이며 다른 아파트 단지에 비해 비교적 깨끗함', 'residentScore': 4, 'residentDesc': '앞쪽에는 산이 있어서 뻥 뚫린 느낌을 줌. 다만 다른 지역보다 추움', 'regDate': '2017.05.19', 'regTime': '2017-05-19T05:48:15.000Z'}, {'id': 21962, 'age': '20대', 'sex': '여자', 'married': '미혼', 'residenceTime': '2017년에 거주', 'residenceType': '자가 거주', 'score': 5, 'desc': '가까이에 마트가 있고 역세권이라 매우 좋습니다. \\n버스 노선도 많아서 편리합니다', 'trafficScore': 5, 'trafficDesc': '시내로 나가는 버스도 많고 역세권이라 교통이 매우 편리합니다.', 'aroundScore': 5, 'aroundDesc': '쉴 곳도 많고 편의시설이 잘 발달되어 있어 살기에 적합합니다.', 'careScore': 5, 'careDesc': '단지가 매우 청결하고 공동현관이 철저해서 안전하고 마음이 놓입니다', 'residentScore': 5, 'residentDesc': '베란다가 많아 일조량이 적절하며 냉난방 시설이 편리합니다', 'regDate': '2017.05.19', 'regTime': '2017-05-19T05:48:15.000Z'}, {'id': 20159, 'age': '20대', 'sex': '남자', 'married': '미혼', 'residenceTime': '2015년까지 거주', 'residenceType': '자가 거주', 'score': 3, 'desc': '차량만 있다면 불편한 건 크게 없음, 다만 산 근처이다 보니 벌레가 좀 많긴 함', 'trafficScore': 3, 'trafficDesc': '차로 다녀야 하는 단점이 있음, 버스가 있긴 하나 오래 걸리며, 지하철까지는 멀기 때문에 차가 꼭 있어야 함', 'aroundScore': 3, 'aroundDesc': '대형 마트가 있으면 좋겠지만 작은 마트는 몇 군데 있음, 산이 있다 보니 공기는 괜찮음', 'careScore': 3, 'careDesc': '동네가 전체적으로 조용하다 보니 괜찮음. 엄청 더럽거나 그렇지도 않음', 'residentScore': 3, 'residentDesc': '층간 소음이 좀 있긴 함, 햇볕이 잘 들어와 채광은 좋은 편', 'regDate': '2017.05.19', 'regTime': '2017-05-19T05:47:40.000Z'}, {'id': 15164, 'age': '20대', 'sex': '여자', 'married': '미혼', 'residenceTime': '2017년에 거주', 'residenceType': '자가 거주', 'score': 4, 'desc': '공사가 다 끝나는 2018년쯤에는 최고의 아파트가 되어있을 것이 분명하다 롯데몰 등등 계속 새 건물 들어서고 있음', 'trafficScore': 4, 'trafficDesc': '버스정류장 아주 가깝고 구파발역과도 가까움  자가용 타고 다니기에도 불편하지 않았습니다. 지하철과 버스정류장 다 좋았음', 'aroundScore': 2, 'aroundDesc': '공사장이 많아서 아직은 불편 다 짓고 나면 편해지겠죠. 롯데몰 완공되면 롯데마트 롯데시네마 등등 최고의 편의시설 기대중 그리고 북한산도 가까움.', 'careScore': 5, 'careDesc': '깔끔함. 무인 택배함 설치되어있고 경비 아저씨도 친절함 무거운 택배 들어다 주심. 그리고 청소도 엄청 잘 되어있음 대신 관리비 비쌈', 'residentScore': 5, 'residentDesc': '새 아파트라 깔끔하고 인테리어도 굳 \\n햇빛도 좋다. 곰팡이나 벌레도 없음', 'regDate': '2017.05.19', 'regTime': '2017-05-19T05:47:07.000Z'}, {'id': 12168, 'age': '30대', 'sex': '남자', 'married': '기혼', 'residenceTime': '2016년까지 거주', 'residenceType': '전세 또는 월세', 'score': 3, 'desc': '곧 롯데마트도 생기고 큰 병원도 생겨서 좋습니다 \\n구파발 역에서 떨어져 있어서 고즈넉한 점이 좋습니다', 'trafficScore': 4, 'trafficDesc': '구파발역에서 어느 정도 떨어져 있지만 마을버스 환승해서 다니기 편합니다', 'aroundScore': 3, 'aroundDesc': '주위 유치원 초등학교 중학교 고등학교가 모두 있고 마트나 미용실 학원이 많아 살기 좋습니다', 'careScore': 3, 'careDesc': '경비실이 있어서 택배 받기 편하고 비밀번호는 주기적으로 바꿉니다 \\n', 'residentScore': 3, 'residentDesc': '빛이 잘 들어오고 바람이 잘 통합니다 \\n관리비는 조금 저렴하진 않습니다', 'regDate': '2017.05.19', 'regTime': '2017-05-19T05:46:30.000Z'}]}\n"
     ]
    }
   ],
   "source": [
    "import requests \n",
    "import json \n",
    " \n",
    "danjiId=18433 \n",
    "url = \"https://apis.zigbang.com/property/apartments/{}/reviews/v1\".format(danjiId) \n",
    "req = requests.get(url) \n",
    " \n",
    "if req.status_code == 200: \n",
    "    data = json.loads(req.text) \n",
    "    print(data)"
   ]
  },
  {
   "cell_type": "code",
   "execution_count": 91,
   "id": "51513cfb",
   "metadata": {},
   "outputs": [
    {
     "name": "stdout",
     "output_type": "stream",
     "text": [
      "Defaulting to user installation because normal site-packages is not writeable\n",
      "Requirement already satisfied: geohash2 in /home/a202192010/.local/lib/python3.8/site-packages (1.1)\n",
      "Requirement already satisfied: docutils>=0.3 in /home/a202192010/.local/lib/python3.8/site-packages (from geohash2) (0.20.1)\n",
      "\u001b[33mDEPRECATION: distro-info 1.1build1 has a non-standard version number. pip 23.3 will enforce this behaviour change. A possible replacement is to upgrade to a newer version of distro-info or contact the author to suggest that they release a version with a conforming version number. Discussion can be found at https://github.com/pypa/pip/issues/12063\u001b[0m\u001b[33m\n",
      "\u001b[0m"
     ]
    }
   ],
   "source": [
    "!pip install geohash2"
   ]
  },
  {
   "cell_type": "code",
   "execution_count": 92,
   "id": "0d1c9b44",
   "metadata": {},
   "outputs": [
    {
     "name": "stdout",
     "output_type": "stream",
     "text": [
      "{'success': True, 'code': '200', 'items': [{'id': 8396, 'type': 'address', 'name': '전주시 완산구', 'hint': '', 'description': '전라북도 전주시 완산구', 'lat': 35.812198638916, 'lng': 127.119812011719, 'zoom': 7, 'polygon': [], '_score': None, '_source': {'name_length': 7, 'local1': '전라북도', 'local2': '전주시 완산구', 'local3': None, 'web_level': 14, 'web_lat': 35.812198638916, 'web_lng': 127.119812011719, 'app_level': 13, 'app_lat': 35.812198638916, 'app_lng': 127.119812011719, '법정동코드': '4511100000'}, 'zoom_level': {'google': 13, 'daum': 6}, 'zoom_level_v2': {'app': 8, 'web': 6}}], 'next': None, 'limit': 0}\n"
     ]
    }
   ],
   "source": [
    "import requests \n",
    "import json \n",
    "import geohash2\n",
    "\n",
    "gu = '완산구'\n",
    "url = 'https://apis.zigbang.com/search?q={}'.format(gu)\n",
    "req = requests.get(url)\n",
    "_json = req.json()\n",
    "\n",
    "print(_json)"
   ]
  },
  {
   "cell_type": "code",
   "execution_count": 93,
   "id": "7e900844",
   "metadata": {},
   "outputs": [
    {
     "name": "stdout",
     "output_type": "stream",
     "text": [
      "전주시 완산구의 geohash: wy67srcbyhwu\n"
     ]
    }
   ],
   "source": [
    "import geohash2\n",
    "\n",
    "latitude = 35.81421\n",
    "longitude = 127.1035\n",
    "\n",
    "# geohash 계산\n",
    "geohash_value = geohash2.encode(latitude, longitude)\n",
    "\n",
    "print(\"전주시 완산구의 geohash:\", geohash_value)"
   ]
  },
  {
   "cell_type": "markdown",
   "id": "c6dfa1dd",
   "metadata": {},
   "source": [
    "Geohash란?\n",
    "GeoHash란 사각형의 격자구조를 이용하여 지구상의 위치를 고유하게 식별할 수 있는 고유 지리 ID입니다.\n",
    "\n",
    "즉 임의의 장소에 대해 그 장소를 나타내는 고유의 ID가 있다는 뜻입니다."
   ]
  },
  {
   "cell_type": "code",
   "execution_count": 100,
   "id": "35efdf4e",
   "metadata": {},
   "outputs": [],
   "source": [
    "def getHigherGeohash(strgh):        # string 형태의 geohash 입력시 상위 레벨의 geohash 32개를 리스트로 전달\n",
    "    returnList=[]\n",
    "    for i in range(10):\n",
    "        returnList.append(strgh+str(i))\n",
    "    startIdx = ord('b')\n",
    "    endIdx = ord('z')\n",
    "    for i in range(startIdx, endIdx + 1):\n",
    "        if (chr(i) != 'i' and chr(i) != 'l' and chr(i) != 'o'):\n",
    "            returnList.append(strgh + chr(i))\n",
    " \n",
    "    return returnList"
   ]
  },
  {
   "cell_type": "code",
   "execution_count": null,
   "id": "2c0d5d10",
   "metadata": {},
   "outputs": [],
   "source": []
  },
  {
   "cell_type": "code",
   "execution_count": 101,
   "id": "9302d345",
   "metadata": {},
   "outputs": [],
   "source": [
    "import requests\n",
    "import json\n",
    " \n",
    "def getDanjiList(geohash):\n",
    "    url = \"https://apis.zigbang.com/v2/aparts/items?domain=zigbang&geohash={}\".format(geohash)\n",
    "    req = requests.get(url)\n",
    "    items = req.json()\n",
    " \n",
    "    danjiList=[]\n",
    "    if items[\"vrItems\"] !=[]:       ## vrItems 대상이 있으면 진행\n",
    "        for i in items[\"vrItems\"]:\n",
    "            danjiList.append(i[\"areaDanjiId\"])\n",
    "    if items[\"recommendItems\"] !=[]:       ## recommend 대상이 있으면 진행\n",
    "        for i in items[\"recommendItems\"]:\n",
    "            danjiList.append(i[\"areaDanjiId\"])\n",
    "    if items[\"items\"] !=[]:       ## Items 대상이 있으면 진행\n",
    "        for i in items[\"items\"]:\n",
    "            danjiList.append(i[\"areaDanjiId\"])\n",
    " \n",
    "    danjiList = list(set(danjiList))\n",
    " \n",
    " \n",
    "    return danjiList\n"
   ]
  },
  {
   "cell_type": "code",
   "execution_count": 124,
   "id": "069b98c8",
   "metadata": {},
   "outputs": [
    {
     "name": "stdout",
     "output_type": "stream",
     "text": [
      "[18433, 4451, 19493, 38598, 18729, 18731, 20142, 20143, 19889, 20402, 78680, 18740, 25750, 36888, 38269]\n"
     ]
    }
   ],
   "source": [
    "geohash = ['wydq0']\n",
    "for i in geohash:\n",
    "    print(getDanjiList(i))"
   ]
  },
  {
   "cell_type": "code",
   "execution_count": 125,
   "id": "4c3168be",
   "metadata": {},
   "outputs": [
    {
     "name": "stdout",
     "output_type": "stream",
     "text": [
      "['wy600', 'wy601', 'wy602', 'wy603', 'wy604'] 1024\n"
     ]
    }
   ],
   "source": [
    "geohash = ['wy6']\n",
    "tmp = []\n",
    "for i in geohash:\n",
    "    tmp4Lv=getHigherGeohash(i)\n",
    "    for j in tmp4Lv:\n",
    "        tmp5Lv=getHigherGeohash(j)\n",
    "        tmp.append(tmp5Lv)\n",
    " \n",
    "totalGeohash = []\n",
    "for i in tmp:\n",
    "    totalGeohash+=i\n",
    "print(totalGeohash[:5], len(totalGeohash))"
   ]
  },
  {
   "cell_type": "code",
   "execution_count": 126,
   "id": "aa248ccc",
   "metadata": {},
   "outputs": [],
   "source": [
    "import requests\n",
    " \n",
    "def getHigherGeohash(strgh):        # string 형태의 geohash 입력시 상위 레벨의 geohash 32개를 리스트로 전달\n",
    "    returnList=[]\n",
    "    for i in range(10):\n",
    "        returnList.append(strgh+str(i))\n",
    "    startIdx = ord('b')\n",
    "    endIdx = ord('z')\n",
    "    for i in range(startIdx, endIdx + 1):\n",
    "        if (chr(i) != 'i' and chr(i) != 'l' and chr(i) != 'o'):\n",
    "            returnList.append(strgh + chr(i))\n",
    " \n",
    "    return returnList"
   ]
  },
  {
   "cell_type": "code",
   "execution_count": 127,
   "id": "ef1aacde",
   "metadata": {},
   "outputs": [],
   "source": [
    "def getDanjiList(geohash):\n",
    "    url = \"https://apis.zigbang.com/v2/aparts/items?domain=zigbang&geohash={}\".format(geohash)\n",
    "    req = requests.get(url)\n",
    "    items = req.json()\n",
    " \n",
    "    danjiList=[]\n",
    "    if items[\"vrItems\"] !=[]:       ## vrItems 대상이 있으면 진행\n",
    "        for i in items[\"vrItems\"]:\n",
    "            danjiList.append(i[\"areaDanjiId\"])\n",
    "    if items[\"recommendItems\"] !=[]:       ## recommend 대상이 있으면 진행\n",
    "        for i in items[\"recommendItems\"]:\n",
    "            danjiList.append(i[\"areaDanjiId\"])\n",
    "    if items[\"items\"] !=[]:       ## Items 대상이 있으면 진행\n",
    "        for i in items[\"items\"]:\n",
    "            danjiList.append(i[\"areaDanjiId\"])\n",
    " \n",
    "    danjiList = list(set(danjiList))\n",
    " \n",
    " \n",
    "    return danjiList"
   ]
  },
  {
   "cell_type": "markdown",
   "id": "2dee44d8",
   "metadata": {},
   "source": [
    "# 크롤링 후 csv 파일"
   ]
  },
  {
   "cell_type": "markdown",
   "id": "aeaf63a6",
   "metadata": {},
   "source": [
    "# CSV 파일 만들기\n",
    "\n",
    "이제 지오해시를 통하여 리뷰들에 대하여 크롤링 하여 csv 파일로 만드는 작업입니다."
   ]
  },
  {
   "cell_type": "code",
   "execution_count": 131,
   "id": "2f7a894f",
   "metadata": {},
   "outputs": [
    {
     "name": "stdout",
     "output_type": "stream",
     "text": [
      "['wy600', 'wy601', 'wy602', 'wy603', 'wy604'] 1024\n"
     ]
    }
   ],
   "source": [
    "geohash = ['wyd','wye','wy6','wy7']\n",
    "tmp = []\n",
    "for i in geohash:\n",
    "    tmp4Lv=getHigherGeohash(i)\n",
    "    for j in tmp4Lv:\n",
    "        tmp5Lv=getHigherGeohash(j)\n",
    "        tmp.append(tmp5Lv)\n",
    "totalGeohash = []\n",
    "for i in tmp:\n",
    "    totalGeohash+=i\n",
    "print(totalGeohash[:5], len(totalGeohash))"
   ]
  },
  {
   "cell_type": "code",
   "execution_count": 135,
   "id": "59768bae",
   "metadata": {},
   "outputs": [],
   "source": [
    "def makeCSV(geohashName, reviewList):\n",
    "    fileName = geohashName + \".csv\"\n",
    "    f = open(fileName, 'w', encoding='utf-8', newline='')\n",
    "    wr = csv.writer(f)\n",
    "    for i in reviewList:\n",
    "        wr.writerow(i)\n",
    "    f.close()\n",
    "    print(fileName+\" has been created\")"
   ]
  },
  {
   "cell_type": "code",
   "execution_count": null,
   "id": "c19fd047",
   "metadata": {},
   "outputs": [],
   "source": [
    "geohash = ['wyd']\n",
    "tmp = []\n",
    "for i in geohash:\n",
    "    tmp4Lv=getHigherGeohash(i)\n",
    "    for j in tmp4Lv:\n",
    "        tmp5Lv=getHigherGeohash(j)\n",
    "        tmp.append(tmp5Lv)\n",
    "totalGeohash = []\n",
    "for i in tmp:\n",
    "    totalGeohash+=i\n",
    "for i in totalGeohash:\n",
    "    DanjiListPerGeohash = getDanjiList(i)        # 5레벨 Geohash별로 처리\n",
    "    reviewPerGeohash=[]\n",
    "    for j in DanjiListPerGeohash:\n",
    "        tmpList = getReviewData(j)\n",
    "        if len(tmpList) > 0:\n",
    "            for z in tmpList:\n",
    "                reviewPerGeohash.append(z)\n",
    "    if len(reviewPerGeohash) > 0:           # 해당 5레벨 geohash에 리뷰가 1개라도 있으면\n",
    "        reviewPerGeohash.insert(0,[\"danji_id\", \"danji_name\", \"age\", \"sex\", \"residenceType\", \"married\", \"totalScore\",\n",
    "                        \"totalDesc\", \"trafficScore\", \"trafficDesc\", \"aroundScore\",\n",
    "                        \"aroundDesc\", \"careScore\", \"careDesc\", \"residentScore\", \"residentDesc\"])\n",
    " \n",
    "        makeCSV(i,reviewPerGeohash)\n",
    "    else:                                   # 리뷰가 하나도 없으면\n",
    "        print(i+\" doesn't have any review data\")"
   ]
  },
  {
   "cell_type": "markdown",
   "id": "eccbcd6c",
   "metadata": {},
   "source": [
    "# 전체 코드"
   ]
  },
  {
   "cell_type": "code",
   "execution_count": 142,
   "id": "f30cc5c7",
   "metadata": {},
   "outputs": [
    {
     "name": "stdout",
     "output_type": "stream",
     "text": [
      "Making CSV for wydq0 has been completed\n",
      "Making CSV for wydq4 has been completed\n",
      "Making CSV for wydq5 has been completed\n",
      "Making CSV for wydjz has been completed\n",
      "Making CSV for wydmb has been completed\n",
      "Making CSV for wydmc has been completed\n",
      "Making CSV for wydmf has been completed\n",
      "Making CSV for wydmg has been completed\n",
      "Making CSV for wydmu has been completed\n",
      "Making CSV for wydmv has been completed\n",
      "Making CSV for wydjt has been completed\n",
      "Making CSV for wydjw has been completed\n",
      "Making CSV for wydjx has been completed\n",
      "Making CSV for wydm8 has been completed\n",
      "Making CSV for wydm9 has been completed\n",
      "Making CSV for wydmd has been completed\n",
      "Making CSV for wydme has been completed\n",
      "Making CSV for wydms has been completed\n",
      "Making CSV for wydmt has been completed\n",
      "Making CSV for wydmw has been completed\n",
      "Making CSV for wydjq has been completed\n",
      "Making CSV for wydjr has been completed\n",
      "Making CSV for wydm2 has been completed\n",
      "Making CSV for wydm3 has been completed\n",
      "Making CSV for wydm6 has been completed\n",
      "Making CSV for wydm7 has been completed\n",
      "Making CSV for wydmk has been completed\n",
      "Making CSV for wydmm has been completed\n",
      "Making CSV for wydjn has been completed\n",
      "Making CSV for wydjp has been completed\n",
      "Making CSV for wydm0 has been completed\n",
      "Making CSV for wydm1 has been completed\n",
      "Making CSV for wydm4 has been completed\n",
      "Making CSV for wydm5 has been completed\n",
      "Making CSV for wydmh has been completed\n"
     ]
    }
   ],
   "source": [
    "import requests\n",
    "import json\n",
    "import csv\n",
    "\n",
    "\n",
    "def getSeoulAptId(geohash):\n",
    "    url = \"https://apis.zigbang.com/v2/aparts/items?domain=zigbang&geohash={}\".format(geohash)\n",
    "    req = requests.get(url)\n",
    "    items = req.json()\n",
    "\n",
    "    danjiList=[]\n",
    "    if items[\"vrItems\"] !=[]:       ## vrItems 대상이 있으면 진행\n",
    "        for i in items[\"vrItems\"]:\n",
    "            danjiList.append(i[\"areaDanjiId\"])\n",
    "    if items[\"recommendItems\"] !=[]:       ## recommend 대상이 있으면 진행\n",
    "        for i in items[\"recommendItems\"]:\n",
    "            danjiList.append(i[\"areaDanjiId\"])\n",
    "    if items[\"items\"] !=[]:       ## Items 대상이 있으면 진행\n",
    "        for i in items[\"items\"]:\n",
    "            danjiList.append(i[\"areaDanjiId\"])\n",
    "\n",
    "    danjiList = list(set(danjiList))\n",
    "\n",
    "\n",
    "    return danjiList\n",
    "\n",
    "################################################################################################################\n",
    "def getReviewData(danjiId):\n",
    "    reviewList=[]\n",
    "\n",
    "    url = \"https://apis.zigbang.com/property/apartments/{}/reviews/v1\".format(danjiId)\n",
    "    req_review = requests.get(url)\n",
    "\n",
    "    if req_review.status_code == 200:\n",
    "        review_data = json.loads(req_review.text)\n",
    "        if review_data[\"summary\"][\"reviewCount\"] != 0:                  # 리뷰가 없는 아파트는 스킵\n",
    "            for j in review_data[\"data\"]:\n",
    "                reviewList.append([danjiId, review_data[\"summary\"][\"danjiName\"], j[\"age\"], j[\"sex\"],\n",
    "                                    j[\"residenceType\"], j[\"married\"], j[\"score\"], rmCR(j[\"desc\"]), j[\"trafficScore\"],\n",
    "                                    rmCR(j[\"trafficDesc\"]),\n",
    "                                    j[\"aroundScore\"], rmCR(j[\"aroundDesc\"]), j[\"careScore\"], rmCR(j[\"careDesc\"]),\n",
    "                                    j[\"residentScore\"], rmCR(j[\"residentDesc\"])])\n",
    "\n",
    "    return reviewList\n",
    "\n",
    "################################################################################################################\n",
    "# 리뷰에 \\r , \\n이 있는 경우 삭제\n",
    "\n",
    "def rmCR(text):\n",
    "    while (\"\\n\" in text or \"\\r\" in text):\n",
    "        text = text.replace(\"\\n\",\" \")\n",
    "        text = text.replace(\"\\r\", \" \")\n",
    "    return text\n",
    "\n",
    "################################################################################################################\n",
    "\n",
    "def makeCSV(geohashName, reviewList):\n",
    "    fileName = geohashName + \".csv\"\n",
    "    f = open(fileName, 'w', encoding='utf-8', newline='')\n",
    "    wr = csv.writer(f)\n",
    "    for i in reviewList:\n",
    "        wr.writerow(i)\n",
    "    f.close()\n",
    "\n",
    "################################################################################################################\n",
    "\n",
    "seoulGeohash = ['wydq0','wydq4','wydq5','wydjz','wydmb','wydmc','wydmf','wydmg','wydmu','wydmv','wydjt',\n",
    "                'wydjw','wydjx','wydm8','wydm9','wydmd','wydme','wydms','wydmt','wydmw','wydjq','wydjr',\n",
    "                'wydm2','wydm3','wydm6','wydm7','wydmk','wydmm','wydjn','wydjp','wydm0','wydm1','wydm4',\n",
    "                'wydm5','wydmh']\n",
    "\n",
    "for i in seoulGeohash:\n",
    "    AptListPerGeohash = getSeoulAptId(i)        # Geohash별로 처리\n",
    "    reviewPerGeohash=[]\n",
    "    for j in AptListPerGeohash:\n",
    "        tmpList = getReviewData(j)\n",
    "        if len(tmpList) > 0:\n",
    "            for z in tmpList:\n",
    "                reviewPerGeohash.append(z)\n",
    "\n",
    "    # 컬럼이름 생성\n",
    "    reviewPerGeohash.insert(0,[\"danji_id\", \"danji_name\", \"age\", \"sex\", \"residenceType\", \"married\", \"totalScore\",\n",
    "                        \"totalDesc\", \"trafficScore\", \"trafficDesc\", \"aroundScore\",\n",
    "                        \"aroundDesc\", \"careScore\", \"careDesc\", \"residentScore\", \"residentDesc\"])\n",
    "\n",
    "    makeCSV(i,reviewPerGeohash)\n",
    "    print(\"Making CSV for \" +i+\" has been completed\")"
   ]
  },
  {
   "cell_type": "markdown",
   "id": "3b30cd50",
   "metadata": {},
   "source": [
    "# 데이터 통합 0과 1 인덱싱"
   ]
  },
  {
   "cell_type": "code",
   "execution_count": 147,
   "id": "ee1a3c47",
   "metadata": {},
   "outputs": [
    {
     "name": "stdout",
     "output_type": "stream",
     "text": [
      "0 of duplicated item has been deleted.\n",
      "0 of duplicated item has been deleted.\n",
      "1 of duplicated item has been deleted.\n",
      "0 of duplicated item has been deleted.\n",
      "0 of duplicated item has been deleted.\n",
      "2 of duplicated item has been deleted.\n",
      "0 of duplicated item has been deleted.\n",
      "0 of duplicated item has been deleted.\n",
      "0 of duplicated item has been deleted.\n",
      "1 of duplicated item has been deleted.\n",
      "1 of duplicated item has been deleted.\n",
      "2 of duplicated item has been deleted.\n",
      "1 of duplicated item has been deleted.\n",
      "1 of duplicated item has been deleted.\n",
      "2 of duplicated item has been deleted.\n",
      "1 of duplicated item has been deleted.\n",
      "1 of duplicated item has been deleted.\n",
      "0 of duplicated item has been deleted.\n",
      "1 of duplicated item has been deleted.\n",
      "0 of duplicated item has been deleted.\n",
      "0 of duplicated item has been deleted.\n",
      "0 of duplicated item has been deleted.\n",
      "0 of duplicated item has been deleted.\n",
      "0 of duplicated item has been deleted.\n",
      "0 of duplicated item has been deleted.\n",
      "1 of duplicated item has been deleted.\n",
      "0 of duplicated item has been deleted.\n",
      "1 of duplicated item has been deleted.\n",
      "0 of duplicated item has been deleted.\n",
      "0 of duplicated item has been deleted.\n",
      "0 of duplicated item has been deleted.\n",
      "0 of duplicated item has been deleted.\n",
      "0 of duplicated item has been deleted.\n",
      "0 of duplicated item has been deleted.\n",
      "1 of duplicated item has been deleted.\n"
     ]
    }
   ],
   "source": [
    "# CSV 파일이 있는 폴더 경로\n",
    "csv_folder = 'csv'\n",
    "\n",
    "# 폴더 내의 모든 CSV 파일 가져오기\n",
    "csv_files = [os.path.join(csv_folder, file) for file in os.listdir(csv_folder) if file.endswith(\".csv\")]\n",
    "\n",
    "# 데이터 가져오기 및 처리\n",
    "allData = getConcatData(csv_files)\n",
    "\n",
    "# 결과를 파일로 저장 (옵션)\n",
    "allData.to_csv(\"refinedData.csv\", mode='w')"
   ]
  },
  {
   "cell_type": "markdown",
   "id": "0ad769cf",
   "metadata": {},
   "source": [
    "# 자연어 처리 순서"
   ]
  },
  {
   "cell_type": "code",
   "execution_count": 16,
   "id": "cf3322b1",
   "metadata": {},
   "outputs": [
    {
     "data": {
      "image/png": "[encoded data removed]",
      "text/plain": [
       "<IPython.core.display.Image object>"
      ]
     },
     "execution_count": 16,
     "metadata": {},
     "output_type": "execute_result"
    }
   ],
   "source": [
    "from IPython.display import Image\n",
    "Image(\"img.png\")"
   ]
  },
  {
   "cell_type": "markdown",
   "id": "6c04128d",
   "metadata": {},
   "source": [
    "# 중복데이터 제거 , 긍정부정 정의 , Rawdata 구조 변경"
   ]
  },
  {
   "cell_type": "code",
   "execution_count": 36,
   "id": "adc7333b",
   "metadata": {},
   "outputs": [],
   "source": [
    "import pandas as pd\n",
    "import numpy as np\n",
    "from konlpy.tag import Okt\n",
    "from tensorflow.keras.preprocessing.text import Tokenizer\n",
    "from tensorflow.keras.preprocessing.sequence import pad_sequences\n",
    "import matplotlib.pyplot as plt\n",
    "import pickle\n",
    "import os\n",
    "import csv\n"
   ]
  },
  {
   "cell_type": "code",
   "execution_count": 37,
   "id": "62947c4e",
   "metadata": {},
   "outputs": [],
   "source": [
    "def getEncoding(tokenizer, splited_train_data, splited_test_data, y_train, y_test):\n",
    "\n",
    "    encoded_train_data = tokenizer.texts_to_sequences(splited_train_data)\n",
    "    encoded_test_data = tokenizer.texts_to_sequences(splited_test_data)\n",
    "\n",
    "    drop_train = [i for i, v in enumerate(encoded_train_data) if len(v) == 0]\n",
    "    drop_test = [i for i, v in enumerate(encoded_test_data) if len(v) == 0]\n",
    "\n",
    "    encoded_train_data = np.delete(encoded_train_data, drop_train, axis=0)\n",
    "    encoded_test_data = np.delete(encoded_test_data, drop_test, axis=0)\n",
    "\n",
    "    print(\"\\n\")\n",
    "    print(\"리뷰 최대길이: \" , max(len(i) for i in encoded_train_data))\n",
    "    print(\"리뷰 평균길이: \" , sum(map(len, encoded_train_data))/len(encoded_train_data))\n",
    "    cnt=sum([1 for i in encoded_train_data if len(i)<= 50])\n",
    "    print(\"길이 50 이하의 비율: \", cnt/len(encoded_train_data)*100)\n",
    "    \n",
    "    plt.hist([len(s) for s in encoded_train_data], bins=50)\n",
    "    plt.xlabel('length of samples')\n",
    "    plt.ylabel('number of samples')\n",
    "    plt.show()\n",
    "\n",
    "    \n",
    "    encoded_train_data = pad_sequences(encoded_train_data, maxlen = 50)\n",
    "    encoded_test_data = pad_sequences(encoded_test_data, maxlen = 50)\n",
    "\n",
    "    Y_train = np.delete(y_train, drop_train, axis=0)\n",
    "    Y_test = np.delete(y_test, drop_test, axis=0)\n",
    "    print(str(len(drop_train)) + \" of null review train data has been removed\")\n",
    "    print(str(len(drop_test)) + \" of null review test data has been removed\")\n",
    "\n",
    "    return encoded_train_data, encoded_test_data, Y_train, Y_test"
   ]
  },
  {
   "cell_type": "code",
   "execution_count": 38,
   "id": "a706339c",
   "metadata": {},
   "outputs": [],
   "source": [
    "def getConcatData(inputList, csv_folder):\n",
    "    returnDF = pd.DataFrame()\n",
    "    for i in inputList:\n",
    "        file_path = os.path.join(csv_folder, i + \".csv\")\n",
    "        tmp_data = pd.read_csv(file_path)\n",
    "        tmp_data = getRawData(tmp_data)\n",
    "        returnDF = pd.concat([returnDF, tmp_data])\n",
    "    return returnDF"
   ]
  },
  {
   "cell_type": "code",
   "execution_count": 39,
   "id": "652d754f",
   "metadata": {},
   "outputs": [],
   "source": [
    "def getRawData(inputDF):\n",
    "\n",
    "    # 중복 행 삭제\n",
    "    cnt = len(inputDF)\n",
    "    dupCnt=inputDF['totalDesc'].nunique()\n",
    "    inputDF.drop_duplicates(subset=['totalDesc'], inplace=True)\n",
    "    print( str(cnt - dupCnt) + \" of duplicated item has been deleted.\")\n",
    "\n",
    "    # 필요없는 컬럼은 삭제\n",
    "    inputDF.drop([\"danji_id\", \"danji_name\", \"age\", \"sex\", \"residenceType\", \"married\"], axis='columns', inplace=True)\n",
    "    resultDF = pd.DataFrame()\n",
    "\n",
    "    # 교통평가(3,4열) / 주변평가(5,6열) / 관리평가(7,8열), 주거평가(9,10열) 을 concat 하여 합침\n",
    "    for i in range(0, 10, 2):\n",
    "            inputDF.columns.values[i] = \"score\"\n",
    "            inputDF.columns.values[i + 1] = \"desc\"\n",
    "            resultDF = pd.concat([resultDF, inputDF.iloc[:, i:i + 2]])\n",
    "\n",
    "    # 인덱스 재생성\n",
    "    resultDF.reset_index(drop=True, inplace=True)\n",
    "\n",
    "    # 긍정/부정 분류 (1~2 점은 부정, 3점은 제거, 4~5점은 긍정으로 분류)\n",
    "\n",
    "    idx_nm = resultDF[resultDF['score'] == 3].index\n",
    "    resultDF = resultDF.drop(idx_nm)\n",
    "    resultDF[\"score\"] = resultDF[\"score\"].apply(lambda x: 1 if x >= 4 else 0)\n",
    "\n",
    "    # resultDF.to_csv(\"resultDF.csv\", mode='w')\n",
    "    return resultDF"
   ]
  },
  {
   "cell_type": "markdown",
   "id": "e96e22cd",
   "metadata": {},
   "source": [
    "# 형태소 분석을 통해 토큰화 후 불용어를 제거 > 벡터화"
   ]
  },
  {
   "cell_type": "code",
   "execution_count": 40,
   "id": "463fc63e",
   "metadata": {},
   "outputs": [],
   "source": [
    "def getTokenedData(input_data):\n",
    "\n",
    "    input_data['desc'] = input_data['desc'].str.replace(\"[^ㄱ-ㅎㅏ-ㅣ가-힣 ]\", \"\", regex=True)\n",
    "    stopwordList = getStopwords()\n",
    "\n",
    "    splited_input=[]\n",
    "    okt = Okt()\n",
    "    for i in input_data['desc']:\n",
    "        temp_X =[]\n",
    "        temp_X = okt.morphs(i, stem=True)\n",
    "        temp_X = [j for j in temp_X if j not in stopwordList ]\n",
    "\n",
    "        splited_input.append(temp_X)\n",
    "\n",
    "    return splited_input"
   ]
  },
  {
   "cell_type": "code",
   "execution_count": 41,
   "id": "8064d9d1",
   "metadata": {},
   "outputs": [],
   "source": [
    "def getStopwords():\n",
    "    file = open('stopwords.csv','r',encoding='utf8')\n",
    "    csvfile = csv.reader(file)\n",
    "    returnList = [i[0] for i in csvfile]\n",
    "\n",
    "    return returnList[1:]"
   ]
  },
  {
   "cell_type": "code",
   "execution_count": 42,
   "id": "08c33344",
   "metadata": {},
   "outputs": [],
   "source": [
    "def getTokenizer(splited_train_data):\n",
    "\n",
    "    # 희귀 단어 제외하여 훈련시킬 단어 개수 정하기\n",
    "    tokenizer = Tokenizer()\n",
    "    tokenizer.fit_on_texts(splited_train_data)\n",
    "\n",
    "    rareCnt = 0\n",
    "    rareFreq = 0\n",
    "    totalCnt = len(tokenizer.word_counts)\n",
    "    totalFreq = 0\n",
    "    for k, v in tokenizer.word_counts.items():\n",
    "        totalFreq += v\n",
    "        if v < 3:\n",
    "            rareCnt += 1\n",
    "            rareFreq += v\n",
    "\n",
    "    print(\"Whole words count:\" + str(totalCnt))\n",
    "    print(\"Words appear under two times or less:\" + str(rareCnt))\n",
    "    print(\"Appearance rate of rare words:\" + str(rareCnt / totalCnt * 100))\n",
    "    print(\"Appearance portion of rare words:\" + str(rareFreq / totalFreq * 100))\n",
    "\n",
    "    # 훈련을 위한 토큰화 수행\n",
    "    vocabSize = totalCnt - rareCnt + 1\n",
    "    print(\"Words for train:\" + str(vocabSize))\n",
    "\n",
    "    tokenizer = Tokenizer(vocabSize)\n",
    "    tokenizer.fit_on_texts(splited_train_data)\n",
    "    with open('tokenizer.pickle', 'wb') as handle:\n",
    "        pickle.dump(tokenizer, handle, protocol=pickle.HIGHEST_PROTOCOL)\n",
    "\n",
    "    return tokenizer, vocabSize"
   ]
  },
  {
   "cell_type": "code",
   "execution_count": 43,
   "id": "703183be",
   "metadata": {},
   "outputs": [],
   "source": [
    "import matplotlib.pyplot as plt\n",
    "\n",
    "def plotScatter(X, Y):\n",
    "    plt.figure(figsize=(10, 6))\n",
    "    plt.scatter(X[:, 0], X[:, 1], c=Y, cmap='viridis')\n",
    "    plt.colorbar()\n",
    "    plt.title(\"Scatter Plot of Encoded Text Data\")\n",
    "    plt.xlabel(\"Feature 1\")\n",
    "    plt.ylabel(\"Feature 2\")\n",
    "    plt.show()"
   ]
  },
  {
   "cell_type": "code",
   "execution_count": 44,
   "id": "344ef96a",
   "metadata": {},
   "outputs": [],
   "source": [
    "def loadStopwords():\n",
    "    # Specify the full path to the 'stopwords.csv' file\n",
    "    stopwords_file_path = 'stopwords.csv'\n",
    "    \n",
    "    stopwords = []\n",
    "    with open(stopwords_file_path, 'r', encoding='utf8') as file:\n",
    "        csvfile = csv.reader(file)\n",
    "        stopwords = [row[0] for row in csvfile]\n",
    "    return stopwords[1:]"
   ]
  },
  {
   "cell_type": "code",
   "execution_count": 45,
   "id": "349ac4cf",
   "metadata": {},
   "outputs": [],
   "source": [
    "def tokenizeText(text):\n",
    "    # Tokenize text using Okt (morphological analysis)\n",
    "    okt = Okt()\n",
    "    tokenized_text = []\n",
    "    for sentence in text:\n",
    "        tokens = okt.morphs(sentence, stem=True)\n",
    "        tokenized_text.append(tokens)\n",
    "    return tokenized_text"
   ]
  },
  {
   "cell_type": "code",
   "execution_count": 46,
   "id": "d67fd0e7",
   "metadata": {},
   "outputs": [],
   "source": [
    "def removeStopwords(tokens, stopwords):\n",
    "    # Remove stopwords from the list of tokens\n",
    "    filtered_tokens = [[token for token in sentence if token not in stopwords] for sentence in tokens]\n",
    "    return filtered_tokens"
   ]
  },
  {
   "cell_type": "code",
   "execution_count": 47,
   "id": "b4cc2659",
   "metadata": {},
   "outputs": [],
   "source": [
    "def createTokenizer(texts):\n",
    "    # Create and fit a tokenizer on the given texts\n",
    "    tokenizer = Tokenizer()\n",
    "    tokenizer.fit_on_texts(texts)\n",
    "    return tokenizer"
   ]
  },
  {
   "cell_type": "markdown",
   "id": "e051fb84",
   "metadata": {},
   "source": [
    "# 메인"
   ]
  },
  {
   "cell_type": "code",
   "execution_count": 49,
   "id": "4e0ab1d6",
   "metadata": {
    "scrolled": false
   },
   "outputs": [
    {
     "name": "stdout",
     "output_type": "stream",
     "text": [
      "0 of duplicated item has been deleted.\n",
      "0 of duplicated item has been deleted.\n"
     ]
    },
    {
     "name": "stderr",
     "output_type": "stream",
     "text": [
      "/usr/local/lib/python3.8/dist-packages/numpy/lib/function_base.py:5071: VisibleDeprecationWarning: Creating an ndarray from ragged nested sequences (which is a list-or-tuple of lists-or-tuples-or ndarrays with different lengths or shapes) is deprecated. If you meant to do this, you must specify 'dtype=object' when creating the ndarray.\n",
      "  arr = asarray(arr)\n"
     ]
    },
    {
     "name": "stdout",
     "output_type": "stream",
     "text": [
      "\n",
      "\n",
      "리뷰 최대길이:  122\n",
      "리뷰 평균길이:  20.671262386902196\n",
      "길이 50 이하의 비율:  97.2856527358897\n"
     ]
    },
    {
     "data": {
      "image/png": "[encoded data removed]",
      "text/plain": [
       "<Figure size 640x480 with 1 Axes>"
      ]
     },
     "metadata": {},
     "output_type": "display_data"
    },
    {
     "name": "stdout",
     "output_type": "stream",
     "text": [
      "0 of null review train data has been removed\n",
      "0 of null review test data has been removed\n",
      "[[   0    0    0    0    0    0    0    0    0    0    0    0    0    0\n",
      "     0    0    0    0    0    0    0    0    0    0    0    0    0    0\n",
      "     0    3  326    7   80    2   18   74    1  504  244  408  385 1281\n",
      "     3  924  351   35   18 1013   24  306]\n",
      " [   0    0    0    0    0    0    0    0    0    0    0    0    0    0\n",
      "     0    0    0    0    0    0   57  505  362  327  240  328  925  684\n",
      "   352  926  245 1282  927  506  730  603   44  573   57  134  241   75\n",
      "   232  245  193  287  507   16  685  731]\n",
      " [1014 1511   14  268  574  153    2  205  931   23  242   84  233  164\n",
      "   214   21  257  205   22  129   24   86  129  222  307   50  375   89\n",
      "    58   89   27   19  454   27   19  167   10  240  269    1  351   35\n",
      "   510   19    3   75    1  177   50   79]]\n",
      "[[   0    0    0    0  126   13  676  382   46   11    2   29  567   43\n",
      "   138   43   28  420   64   31  153   26    2  420   51   84    1 1181\n",
      "    41  111   26    2   99    1   21  866   96  176   97   15    3    1\n",
      "    57  748   50   20   16   37   20   16]\n",
      " [   0    0    0    0    0    0    0    0    0    0    0    0    0    0\n",
      "     0    0    0    0    0    0    0    0    0    0  126   13    1   84\n",
      "   420   29  475  140  487  176  432   24   46    1   19   79  297   14\n",
      "    71  420 1321    1  257  237  100   79]\n",
      " [   0    0    0    0    0  553  171 1017  809   24    9    3  427   73\n",
      "   485  127  295   54  712   41  252  212  151 1135  647   57  200  701\n",
      "  1047    3  193  241   50   20  400   88    8    1  404   75  294   26\n",
      "  1352   57 1047    3   79   70   63    3]]\n",
      "[1 1 1]\n",
      "[1 1 1]\n"
     ]
    },
    {
     "data": {
      "image/png": "[encoded data removed]",
      "text/plain": [
       "<Figure size 1000x600 with 2 Axes>"
      ]
     },
     "metadata": {},
     "output_type": "display_data"
    }
   ],
   "source": [
    "# CSV 파일이 있는 폴더 경로\n",
    "csv_folder = \"csv\"\n",
    "\n",
    "# 훈련 및 테스트 데이터의 파일 이름 목록\n",
    "train_geohash = ['wydm0']\n",
    "test_geohash = ['wydjn']\n",
    "\n",
    "# 1. Raw 데이터 생성\n",
    "train_data = getConcatData(train_geohash, csv_folder)\n",
    "test_data = getConcatData(test_geohash, csv_folder)\n",
    "y_train = np.array(train_data['score'])\n",
    "y_test = np.array(test_data['score'])\n",
    "\n",
    "# 2. 불용어 적용 및 Token처리\n",
    "splited_train_data = getTokenedData(train_data)\n",
    "splited_test_data= getTokenedData(test_data)\n",
    "\n",
    "# 3. Tokenizer 생성 (만약 저장된 파일이 있으면 이 파일을 읽음, 새로 만드려면 지울 것)\n",
    "tokenizer = Tokenizer()\n",
    "\n",
    "if (os.path.exists(\"tokenizer.pickle\")):\n",
    "    with open('tokenizer.pickle', 'rb') as handle:\n",
    "        tokenizer = pickle.load(handle)\n",
    "else:\n",
    "    tokenizer = getTokenizer(splited_train_data)\n",
    "\n",
    "# 4. 벡터화된 데이터 생성\n",
    "X_train, X_test, Y_train, Y_test = getEncoding(tokenizer, splited_train_data, splited_test_data, y_train, y_test)\n",
    "\n",
    "\n",
    "print(X_train[:1])\n",
    "\n",
    "print(X_test[:3])\n",
    "\n",
    "print(Y_train[:3])\n",
    "\n",
    "print(Y_test[:3])\n",
    "\n",
    "plotScatter(X_train[:, :2], Y_train)"
   ]
  },
  {
   "cell_type": "markdown",
   "id": "cf883177",
   "metadata": {},
   "source": [
    "# Keras 모델 생성"
   ]
  },
  {
   "cell_type": "code",
   "execution_count": 50,
   "id": "a828e26e",
   "metadata": {},
   "outputs": [],
   "source": [
    "from tensorflow.keras.layers import Embedding, Dense, LSTM\n",
    "from tensorflow.keras.models import Sequential\n",
    "from tensorflow.keras.models import load_model\n",
    "from tensorflow.keras.callbacks import EarlyStopping, ModelCheckpoint"
   ]
  },
  {
   "cell_type": "code",
   "execution_count": 51,
   "id": "6e1bc464",
   "metadata": {},
   "outputs": [
    {
     "name": "stdout",
     "output_type": "stream",
     "text": [
      "WARNING:tensorflow:`period` argument is deprecated. Please use `save_freq` to specify the frequency in number of batches seen.\n"
     ]
    },
    {
     "name": "stderr",
     "output_type": "stream",
     "text": [
      "WARNING:tensorflow:`period` argument is deprecated. Please use `save_freq` to specify the frequency in number of batches seen.\n"
     ]
    },
    {
     "name": "stdout",
     "output_type": "stream",
     "text": [
      "Epoch 1/15\n",
      "31/31 [==============================] - ETA: 0s - loss: 0.5424 - acc: 0.7839INFO:tensorflow:Assets written to: assets\n"
     ]
    },
    {
     "name": "stderr",
     "output_type": "stream",
     "text": [
      "INFO:tensorflow:Assets written to: assets\n"
     ]
    },
    {
     "name": "stdout",
     "output_type": "stream",
     "text": [
      "31/31 [==============================] - 12s 332ms/step - loss: 0.5424 - acc: 0.7839 - val_loss: 0.4645 - val_acc: 0.8430\n",
      "Epoch 2/15\n",
      "31/31 [==============================] - ETA: 0s - loss: 0.5033 - acc: 0.7931INFO:tensorflow:Assets written to: assets\n"
     ]
    },
    {
     "name": "stderr",
     "output_type": "stream",
     "text": [
      "INFO:tensorflow:Assets written to: assets\n"
     ]
    },
    {
     "name": "stdout",
     "output_type": "stream",
     "text": [
      "31/31 [==============================] - 6s 182ms/step - loss: 0.5033 - acc: 0.7931 - val_loss: 0.4483 - val_acc: 0.8430\n",
      "Epoch 3/15\n",
      "31/31 [==============================] - ETA: 0s - loss: 0.4351 - acc: 0.8120INFO:tensorflow:Assets written to: assets\n"
     ]
    },
    {
     "name": "stderr",
     "output_type": "stream",
     "text": [
      "INFO:tensorflow:Assets written to: assets\n"
     ]
    },
    {
     "name": "stdout",
     "output_type": "stream",
     "text": [
      "31/31 [==============================] - 6s 197ms/step - loss: 0.4351 - acc: 0.8120 - val_loss: 0.4099 - val_acc: 0.8452\n",
      "Epoch 4/15\n",
      "29/31 [===========================>..] - ETA: 0s - loss: 0.3639 - acc: 0.8466INFO:tensorflow:Assets written to: assets\n"
     ]
    },
    {
     "name": "stderr",
     "output_type": "stream",
     "text": [
      "INFO:tensorflow:Assets written to: assets\n"
     ]
    },
    {
     "name": "stdout",
     "output_type": "stream",
     "text": [
      "31/31 [==============================] - 5s 152ms/step - loss: 0.3634 - acc: 0.8486 - val_loss: 0.4411 - val_acc: 0.8000\n",
      "Epoch 5/15\n",
      "30/31 [============================>.] - ETA: 0s - loss: 0.3241 - acc: 0.8683INFO:tensorflow:Assets written to: assets\n"
     ]
    },
    {
     "name": "stderr",
     "output_type": "stream",
     "text": [
      "INFO:tensorflow:Assets written to: assets\n"
     ]
    },
    {
     "name": "stdout",
     "output_type": "stream",
     "text": [
      "31/31 [==============================] - 5s 159ms/step - loss: 0.3204 - acc: 0.8696 - val_loss: 0.4268 - val_acc: 0.8172\n",
      "Epoch 6/15\n",
      "31/31 [==============================] - ETA: 0s - loss: 0.2650 - acc: 0.8917INFO:tensorflow:Assets written to: assets\n"
     ]
    },
    {
     "name": "stderr",
     "output_type": "stream",
     "text": [
      "INFO:tensorflow:Assets written to: assets\n"
     ]
    },
    {
     "name": "stdout",
     "output_type": "stream",
     "text": [
      "31/31 [==============================] - 4s 127ms/step - loss: 0.2650 - acc: 0.8917 - val_loss: 0.4601 - val_acc: 0.7978\n",
      "Epoch 7/15\n",
      "28/31 [==========================>...] - ETA: 0s - loss: 0.2362 - acc: 0.9131INFO:tensorflow:Assets written to: assets\n"
     ]
    },
    {
     "name": "stderr",
     "output_type": "stream",
     "text": [
      "INFO:tensorflow:Assets written to: assets\n"
     ]
    },
    {
     "name": "stdout",
     "output_type": "stream",
     "text": [
      "31/31 [==============================] - 4s 143ms/step - loss: 0.2425 - acc: 0.9116 - val_loss: 0.4793 - val_acc: 0.7763\n",
      "Epoch 7: early stopping\n"
     ]
    }
   ],
   "source": [
    "vocabSize = 5000  # 어휘 크기 설정\n",
    "model = Sequential()\n",
    "model.add(Embedding(vocabSize,100))\n",
    "model.add(LSTM(128))\n",
    "model.add(Dense(1, activation='sigmoid'))\n",
    "filepath = ''\n",
    "es = EarlyStopping(monitor='val_loss', mode='min', verbose=1, patience=4)\n",
    "mc = ModelCheckpoint(filepath, monitor='val_loss', verbose=0, save_best_only=False, save_weights_only=False, mode='auto', period=1)\n",
    "model.compile(optimizer='rmsprop', loss='binary_crossentropy', metrics=['acc'])\n",
    "history = model.fit(X_train, Y_train, epochs=15, callbacks=[es, mc], batch_size=60, validation_split=0.2)\n"
   ]
  },
  {
   "cell_type": "code",
   "execution_count": 52,
   "id": "504df6eb",
   "metadata": {},
   "outputs": [
    {
     "data": {
      "text/plain": [
       "Text(0.5, 0, 'Epochs')"
      ]
     },
     "execution_count": 52,
     "metadata": {},
     "output_type": "execute_result"
    },
    {
     "data": {
      "image/png": "[encoded data removed]",
      "text/plain": [
       "<Figure size 1200x400 with 2 Axes>"
      ]
     },
     "metadata": {},
     "output_type": "display_data"
    }
   ],
   "source": [
    "# 훈련 이력에서 손실과 정확도 추출\n",
    "loss = history.history['loss']\n",
    "val_loss = history.history['val_loss']\n",
    "acc = history.history['acc']\n",
    "val_acc = history.history['val_acc']\n",
    "# 훈련 및 검증 손실 그래프\n",
    "plt.figure(figsize=(12, 4))\n",
    "plt.subplot(1, 2, 1)\n",
    "plt.plot(loss, 'b', label='Training Loss')\n",
    "plt.plot(val_loss, 'r', label='Validation Loss')\n",
    "plt.title('Training and Validation Loss')\n",
    "plt.xlabel('Epochs')\n",
    "plt.ylabel('Loss')\n",
    "plt.legend()\n",
    "# 훈련 및 검증 정확도 그래프\n",
    "plt.subplot(1, 2, 2)\n",
    "plt.plot(acc, 'b', label='Training Accuracy')\n",
    "plt.plot(val_acc, 'r', label='Validation Accuracy')\n",
    "plt.title('Training and Validation Accuracy')\n",
    "plt.xlabel('Epochs')"
   ]
  },
  {
   "cell_type": "code",
   "execution_count": 67,
   "id": "84bc25c6",
   "metadata": {},
   "outputs": [
    {
     "name": "stdout",
     "output_type": "stream",
     "text": [
      "1/1 [==============================] - 0s 43ms/step\n"
     ]
    },
    {
     "data": {
      "text/plain": [
       "array([[0.9955521]], dtype=float32)"
      ]
     },
     "execution_count": 67,
     "metadata": {},
     "output_type": "execute_result"
    }
   ],
   "source": [
    "model.predict(X_train[:1]) # 긍정 이였음"
   ]
  },
  {
   "cell_type": "code",
   "execution_count": 72,
   "id": "3bacc9c2",
   "metadata": {},
   "outputs": [
    {
     "name": "stdout",
     "output_type": "stream",
     "text": [
      "1/1 [==============================] - 0s 41ms/step\n",
      "1/1 [==============================] - 0s 40ms/step\n",
      "입력 시퀀스:\n",
      "[[ 0  0  0  0  0  0  0  0  0  0  0  0  0  0  0  0  0  0  0  0  0  0  0  0\n",
      "   0  0  0  0  0  0  0  0  0  0  0  0  0  0  0  0  0  0  0  0  0  0  0  0\n",
      "   0 59]]\n",
      "예측 결과:\n",
      "[[0.50390315]]\n",
      "\n",
      "입력 시퀀스:\n",
      "[[   0    0    0    0    0    0    0    0    0    0    0    0    0    0\n",
      "     0    0    0    0    0    0    0    0    0    0    0    0    0    0\n",
      "     0    0    0    0    0    0    0    0    0    0    0    0    0    0\n",
      "     0    0    0    0    0    0 1377  100]]\n",
      "예측 결과:\n",
      "[[0.59576666]]\n",
      "\n"
     ]
    }
   ],
   "source": [
    "# 예측할 텍스트\n",
    "input_text = [\"집이 너무 더럽고 냄새나고 기분이 안좋아요 마음에 안들고 어떻게 해야될지 모르겠네요\",\n",
    "              \"집이 너무나 깔끔하고 좋아요 최고에요 역세권인점도 마음에 들고 최고에요 정말 사랑스러워요\"]\n",
    "\n",
    "# 텍스트를 토큰화하고 패딩\n",
    "max_sequence_length = max([len(seq) for seq in X_train])\n",
    "\n",
    "# 결과를 저장할 리스트 초기화\n",
    "input_sequences = []\n",
    "predicted_values = []\n",
    "\n",
    "# 각 입력 텍스트에 대한 처리\n",
    "for text in input_text:\n",
    "    # 텍스트를 시퀀스로 변환하고 패딩 적용\n",
    "    input_sequence = tokenizer.texts_to_sequences([text])\n",
    "    input_sequence = pad_sequences(input_sequence, maxlen=max_sequence_length)\n",
    "    \n",
    "    # 모델에 입력하여 예측\n",
    "    predicted_value = model.predict(input_sequence)\n",
    "    \n",
    "    # 예측 결과와 입력 시퀀스를 리스트에 추가\n",
    "    predicted_values.append(predicted_value)\n",
    "    input_sequences.append(input_sequence)\n",
    "\n",
    "# 입력 시퀀스와 예측 결과 출력\n",
    "for i in range(len(input_text)):\n",
    "    print(\"입력 시퀀스:\")\n",
    "    print(input_sequences[i])\n",
    "    print(\"예측 결과:\")\n",
    "    print(predicted_values[i])\n",
    "    print()"
   ]
  },
  {
   "cell_type": "code",
   "execution_count": null,
   "id": "fb2e26b0",
   "metadata": {},
   "outputs": [],
   "source": []
  }
 ],
 "metadata": {
  "kernelspec": {
   "display_name": "Python 3 (ipykernel)",
   "language": "python",
   "name": "python3"
  },
  "language_info": {
   "codemirror_mode": {
    "name": "ipython",
    "version": 3
   },
   "file_extension": ".py",
   "mimetype": "text/x-python",
   "name": "python",
   "nbconvert_exporter": "python",
   "pygments_lexer": "ipython3",
   "version": "3.8.14"
  }
 },
 "nbformat": 4,
 "nbformat_minor": 5
}
